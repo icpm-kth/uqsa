{
 "cells": [
  {
   "cell_type": "markdown",
   "id": "2a0c6174",
   "metadata": {},
   "source": [
    "# Uncertainty quantification"
   ]
  },
  {
   "cell_type": "markdown",
   "id": "4e170c2f",
   "metadata": {},
   "source": [
    "In this notebook, we exemplify an uncertainty quantification (UQ) method as outlined in the paper \"Uncertainty quantification, propagation and characterization by Bayesian analysis combined with global sensitivity analysis applied to\n",
    "dynamical intracellular pathway models\" by Eriksson and Jauhiainen et al. \n",
    "\n",
    "The purpose of inverse uncertainty quantification is to estimate unknown parameters of a model from observed data, and at the same time quantify the uncertainty in these parameter estimates. We do this in a Bayesian framework by characterizing\n",
    "the posterior distribution of the parameters via Approxiamte Bayesian Computation (ABC) coupled to Markov chain Monte Carlo (MCMC). \n",
    "\n",
    "The contents of this Notebook are licensed as: CC BY 4.0 (https://creativecommons.org/licenses/by/4.0/)\n"
   ]
  },
  {
   "cell_type": "code",
   "execution_count": 1,
   "id": "a43b5318",
   "metadata": {},
   "outputs": [],
   "source": [
    "uqsaDirectory <- getwd()"
   ]
  },
  {
   "cell_type": "markdown",
   "id": "075c43da",
   "metadata": {},
   "source": [
    "## Prerequisites\n",
    "\n",
    "In order to run this notebook, you need to have an R kernel installed, and the following packages installed within your R distribution (you may need to run `install.packages(\"[packageName]\")` first):"
   ]
  },
  {
   "cell_type": "code",
   "execution_count": 2,
   "id": "94225d56",
   "metadata": {},
   "outputs": [
    {
     "name": "stderr",
     "output_type": "stream",
     "text": [
      "Skipping install of 'SBtabVFGEN' from a github remote, the SHA1 (cac5f2c7) has not changed since last install.\n",
      "  Use `force = TRUE` to force installation\n",
      "\n",
      "Skipping install of 'rgsl' from a github remote, the SHA1 (605a650f) has not changed since last install.\n",
      "  Use `force = TRUE` to force installation\n",
      "\n",
      "Loading required package: pracma\n",
      "\n",
      "Installing package into ‘/home/presentations/R/x86_64-pc-linux-gnu-library/4.1’\n",
      "(as ‘lib’ is unspecified)\n",
      "\n",
      "Loading required package: R.oo\n",
      "\n",
      "Loading required package: R.methodsS3\n",
      "\n",
      "R.methodsS3 v1.8.1 (2020-08-26 16:20:06 UTC) successfully loaded. See ?R.methodsS3 for help.\n",
      "\n",
      "R.oo v1.24.0 (2020-08-26 16:11:58 UTC) successfully loaded. See ?R.oo for help.\n",
      "\n",
      "\n",
      "Attaching package: ‘R.oo’\n",
      "\n",
      "\n",
      "The following object is masked from ‘package:R.methodsS3’:\n",
      "\n",
      "    throw\n",
      "\n",
      "\n",
      "The following objects are masked from ‘package:methods’:\n",
      "\n",
      "    getClasses, getMethods\n",
      "\n",
      "\n",
      "The following objects are masked from ‘package:base’:\n",
      "\n",
      "    attach, detach, load, save\n",
      "\n",
      "\n",
      "R.utils v2.11.0 (2021-09-26 08:30:02 UTC) successfully loaded. See ?R.utils for help.\n",
      "\n",
      "\n",
      "Attaching package: ‘R.utils’\n",
      "\n",
      "\n",
      "The following object is masked from ‘package:utils’:\n",
      "\n",
      "    timestamp\n",
      "\n",
      "\n",
      "The following objects are masked from ‘package:base’:\n",
      "\n",
      "    cat, commandArgs, getOption, inherits, isOpen, nullfile, parse,\n",
      "    warnings\n",
      "\n",
      "\n",
      "R.matlab v3.6.2 (2018-09-26) successfully loaded. See ?R.matlab for help.\n",
      "\n",
      "\n",
      "Attaching package: ‘R.matlab’\n",
      "\n",
      "\n",
      "The following objects are masked from ‘package:R.utils’:\n",
      "\n",
      "    evaluate, isOpen\n",
      "\n",
      "\n",
      "The following objects are masked from ‘package:base’:\n",
      "\n",
      "    getOption, isOpen\n",
      "\n",
      "\n",
      "\n",
      "Attaching package: ‘deSolve’\n",
      "\n",
      "\n",
      "The following object is masked from ‘package:pracma’:\n",
      "\n",
      "    rk4\n",
      "\n",
      "\n"
     ]
    }
   ],
   "source": [
    "remotes::install_github(\"a-kramer/SBtabVFGEN\")            # R package to generate vector field files from SBtab\n",
    "remotes::install_github(\"a-kramer/rgsl\", ref=\"OpenMP\")    # R package to solve ODEs with the C library \"gsl\"\n",
    "\n",
    "library(SBtabVFGEN)\n",
    "library(rgsl)\n",
    "\n",
    "# example of how to install an R package\n",
    "install.packages(\"VineCopula\")\n",
    "\n",
    "library(parallel)\n",
    "library(VineCopula)\n",
    "library(MASS)\n",
    "library(ks)\n",
    "library(R.utils)\n",
    "library(R.matlab)\n",
    "library(deSolve)\n",
    "library(reshape2)\n",
    "library(ggplot2)"
   ]
  },
  {
   "cell_type": "markdown",
   "id": "c4a86cec",
   "metadata": {},
   "source": [
    "The R package with the functions that we implemented for UQ are available at https://github.com/icpm-kth/uqsa, in the UQ subfolder.\n",
    "To install the package, the following lines of code can be used:"
   ]
  },
  {
   "cell_type": "code",
   "execution_count": 3,
   "id": "b9713d6c",
   "metadata": {},
   "outputs": [
    {
     "name": "stderr",
     "output_type": "stream",
     "text": [
      "Skipping install of 'UQ' from a github remote, the SHA1 (e42dd2ab) has not changed since last install.\n",
      "  Use `force = TRUE` to force installation\n",
      "\n"
     ]
    }
   ],
   "source": [
    "remotes::install_github(\"icpm-kth/uqsa\", subdir=c(\"UQ\"))\n",
    "library(UQ)"
   ]
  },
  {
   "cell_type": "markdown",
   "id": "20c6a0cd",
   "metadata": {},
   "source": [
    "## The model"
   ]
  },
  {
   "cell_type": "markdown",
   "id": "c76f0af9",
   "metadata": {},
   "source": [
    "We show our uncertainty quantification toolset applied to the small model (here denoted by \"AKAR4\") describing the interaction between the reporter protein AKAR4 and PKA, which is a small part of the model presented in \"AKAP79 enables calcineurin to directly suppress protein kinase A activity\" (Church TW, Tewatia P, Hannan S, et al. Elife. 2021;10:e68164. Published 2021 Oct 6. doi:10.7554/eLife.68164).\n",
    "\n",
    "In particular, we work with ordinary differential equation (ODE) models. In general, an ODE model is described by the following:\n",
    "\n",
    "\\begin{cases}\n",
    "&\\dot{\\mathbf{x}}(t) &&= f(\\mathbf{x}(t), \\mathbf{u}(t), \\mathbf{p}) \\nonumber \\\\\n",
    "&\\mathbf{x}(t_0) &&=\\mathbf{x_0} \\label{eq:model}\\\\\n",
    "&\\mathbf{y}(t) &&= g(\\mathbf{x}(t),\\mathbf{s}) \\nonumber\n",
    "\\end{cases}\n",
    "\n",
    "where\n",
    "- $\\mathbf{x}(t)$ corresponds to internal state variables (compounds, in our case), \n",
    "- $\\mathbf{u}(t)$ to external input (species concentrations that are controlled by experimentalists),\n",
    "- $\\mathbf{y}(t)$ are the outputs (measurements from experiments),\n",
    "- $\\mathbf{p}$ are system parameters (on which we want to perform UQ),\n",
    "- $\\mathbf{s}$ are parameters for the readouts.\n",
    "\n",
    "The parameters $\\mathbf{\\theta}=(\\mathbf{p}, \\mathbf{s})$ together with the initial conditions $\\mathbf{x}(t_0)$ and the input $\\mathbf{u}(t)$ fully specify the output from the system.\n",
    "\n"
   ]
  },
  {
   "cell_type": "markdown",
   "id": "b9e53bbf",
   "metadata": {},
   "source": [
    "We use SBtab to describe the model and store experimental data.\n",
    "Basing on the SBtab format, we created a folder with all the spreadsheet files in .tsv extension.\n",
    "The information about the model is contained in the tables of compounds, parameters, reactions, input (not present in this simple model) and output."
   ]
  },
  {
   "cell_type": "markdown",
   "id": "a9c23fe0",
   "metadata": {},
   "source": [
    "## Import model from SBtab into R"
   ]
  },
  {
   "cell_type": "markdown",
   "id": "9a54423a",
   "metadata": {},
   "source": [
    "To import the model from the SBtab spreadsheet files (see: https://www.sbtab.net), we implemented the R function `import_from_SBtab`. \n",
    "The input to this function is the path of the directry where all the SBtab files (in .tsv extension) are stored.\n",
    "The output is a list (here called `model`) containing all the information about the model."
   ]
  },
  {
   "cell_type": "code",
   "execution_count": 4,
   "id": "2e9b4106",
   "metadata": {},
   "outputs": [
    {
     "name": "stderr",
     "output_type": "stream",
     "text": [
      "[tsv] file[1] «/home/presentations/Documents/uqsa/AKAR4/AKAR4_100nM.tsv» belongs to Document «AKAR4»\n",
      "\tI'll take this as the Model Name.\n",
      "\n",
      "\n"
     ]
    }
   ],
   "source": [
    "SBtabDir <- paste0(uqsaDirectory,\"/AKAR4\") # write path of folder with all the SBtab (.tsv) files\n",
    "setwd(SBtabDir)\n",
    "model = import_from_SBtab(SBtabDir)"
   ]
  },
  {
   "cell_type": "markdown",
   "id": "96b1264f",
   "metadata": {},
   "source": [
    "Here is some of the information that the list `model` contains."
   ]
  },
  {
   "cell_type": "code",
   "execution_count": 5,
   "id": "79c709c3",
   "metadata": {},
   "outputs": [
    {
     "data": {
      "text/html": [
       "<table class=\"dataframe\">\n",
       "<caption>A data.frame: 4 × 5</caption>\n",
       "<thead>\n",
       "\t<tr><th scope=col>!ID</th><th scope=col>!Name</th><th scope=col>!InitialValue</th><th scope=col>!Unit</th><th scope=col>!Location</th></tr>\n",
       "\t<tr><th scope=col>&lt;chr&gt;</th><th scope=col>&lt;chr&gt;</th><th scope=col>&lt;dbl&gt;</th><th scope=col>&lt;chr&gt;</th><th scope=col>&lt;chr&gt;</th></tr>\n",
       "</thead>\n",
       "<tbody>\n",
       "\t<tr><td>AKAR4  </td><td>AKAR4  </td><td>0.2</td><td>micromole/liter</td><td>spine</td></tr>\n",
       "\t<tr><td>AKAR4_C</td><td>AKAR4_C</td><td>0.0</td><td>micromole/liter</td><td>spine</td></tr>\n",
       "\t<tr><td>AKAR4p </td><td>AKAR4p </td><td>0.0</td><td>micromole/liter</td><td>spine</td></tr>\n",
       "\t<tr><td>C      </td><td>C      </td><td>0.0</td><td>micromole/liter</td><td>spine</td></tr>\n",
       "</tbody>\n",
       "</table>\n"
      ],
      "text/latex": [
       "A data.frame: 4 × 5\n",
       "\\begin{tabular}{lllll}\n",
       " !ID & !Name & !InitialValue & !Unit & !Location\\\\\n",
       " <chr> & <chr> & <dbl> & <chr> & <chr>\\\\\n",
       "\\hline\n",
       "\t AKAR4   & AKAR4   & 0.2 & micromole/liter & spine\\\\\n",
       "\t AKAR4\\_C & AKAR4\\_C & 0.0 & micromole/liter & spine\\\\\n",
       "\t AKAR4p  & AKAR4p  & 0.0 & micromole/liter & spine\\\\\n",
       "\t C       & C       & 0.0 & micromole/liter & spine\\\\\n",
       "\\end{tabular}\n"
      ],
      "text/markdown": [
       "\n",
       "A data.frame: 4 × 5\n",
       "\n",
       "| !ID &lt;chr&gt; | !Name &lt;chr&gt; | !InitialValue &lt;dbl&gt; | !Unit &lt;chr&gt; | !Location &lt;chr&gt; |\n",
       "|---|---|---|---|---|\n",
       "| AKAR4   | AKAR4   | 0.2 | micromole/liter | spine |\n",
       "| AKAR4_C | AKAR4_C | 0.0 | micromole/liter | spine |\n",
       "| AKAR4p  | AKAR4p  | 0.0 | micromole/liter | spine |\n",
       "| C       | C       | 0.0 | micromole/liter | spine |\n",
       "\n"
      ],
      "text/plain": [
       "  !ID     !Name   !InitialValue !Unit           !Location\n",
       "1 AKAR4   AKAR4   0.2           micromole/liter spine    \n",
       "2 AKAR4_C AKAR4_C 0.0           micromole/liter spine    \n",
       "3 AKAR4p  AKAR4p  0.0           micromole/liter spine    \n",
       "4 C       C       0.0           micromole/liter spine    "
      ]
     },
     "metadata": {},
     "output_type": "display_data"
    },
    {
     "data": {
      "text/html": [
       "<table class=\"dataframe\">\n",
       "<caption>A data.frame: 3 × 7</caption>\n",
       "<thead>\n",
       "\t<tr><th scope=col>!ID</th><th scope=col>!Name</th><th scope=col>!DefaultValue</th><th scope=col>!Std</th><th scope=col>!PriorDistribution</th><th scope=col>!Scale</th><th scope=col>!Unit</th></tr>\n",
       "\t<tr><th scope=col>&lt;chr&gt;</th><th scope=col>&lt;chr&gt;</th><th scope=col>&lt;dbl&gt;</th><th scope=col>&lt;lgl&gt;</th><th scope=col>&lt;chr&gt;</th><th scope=col>&lt;chr&gt;</th><th scope=col>&lt;chr&gt;</th></tr>\n",
       "</thead>\n",
       "<tbody>\n",
       "\t<tr><td>kf_C_AKAR4</td><td>kf_C_AKAR4</td><td> 0.018</td><td>NA</td><td>Uniform distribution</td><td>linear</td><td>1/(micromolarity*second)</td></tr>\n",
       "\t<tr><td>kb_C_AKAR4</td><td>kb_C_AKAR4</td><td> 0.106</td><td>NA</td><td>Uniform distribution</td><td>linear</td><td>1/second                </td></tr>\n",
       "\t<tr><td>kcat_AKARp</td><td>kcat_AKARp</td><td>10.200</td><td>NA</td><td>Uniform distribution</td><td>linear</td><td>1/second                </td></tr>\n",
       "</tbody>\n",
       "</table>\n"
      ],
      "text/latex": [
       "A data.frame: 3 × 7\n",
       "\\begin{tabular}{lllllll}\n",
       " !ID & !Name & !DefaultValue & !Std & !PriorDistribution & !Scale & !Unit\\\\\n",
       " <chr> & <chr> & <dbl> & <lgl> & <chr> & <chr> & <chr>\\\\\n",
       "\\hline\n",
       "\t kf\\_C\\_AKAR4 & kf\\_C\\_AKAR4 &  0.018 & NA & Uniform distribution & linear & 1/(micromolarity*second)\\\\\n",
       "\t kb\\_C\\_AKAR4 & kb\\_C\\_AKAR4 &  0.106 & NA & Uniform distribution & linear & 1/second                \\\\\n",
       "\t kcat\\_AKARp & kcat\\_AKARp & 10.200 & NA & Uniform distribution & linear & 1/second                \\\\\n",
       "\\end{tabular}\n"
      ],
      "text/markdown": [
       "\n",
       "A data.frame: 3 × 7\n",
       "\n",
       "| !ID &lt;chr&gt; | !Name &lt;chr&gt; | !DefaultValue &lt;dbl&gt; | !Std &lt;lgl&gt; | !PriorDistribution &lt;chr&gt; | !Scale &lt;chr&gt; | !Unit &lt;chr&gt; |\n",
       "|---|---|---|---|---|---|---|\n",
       "| kf_C_AKAR4 | kf_C_AKAR4 |  0.018 | NA | Uniform distribution | linear | 1/(micromolarity*second) |\n",
       "| kb_C_AKAR4 | kb_C_AKAR4 |  0.106 | NA | Uniform distribution | linear | 1/second                 |\n",
       "| kcat_AKARp | kcat_AKARp | 10.200 | NA | Uniform distribution | linear | 1/second                 |\n",
       "\n"
      ],
      "text/plain": [
       "  !ID        !Name      !DefaultValue !Std !PriorDistribution   !Scale\n",
       "1 kf_C_AKAR4 kf_C_AKAR4  0.018        NA   Uniform distribution linear\n",
       "2 kb_C_AKAR4 kb_C_AKAR4  0.106        NA   Uniform distribution linear\n",
       "3 kcat_AKARp kcat_AKARp 10.200        NA   Uniform distribution linear\n",
       "  !Unit                   \n",
       "1 1/(micromolarity*second)\n",
       "2 1/second                \n",
       "3 1/second                "
      ]
     },
     "metadata": {},
     "output_type": "display_data"
    },
    {
     "data": {
      "text/html": [
       "<table class=\"dataframe\">\n",
       "<caption>A data.frame: 2 × 5</caption>\n",
       "<thead>\n",
       "\t<tr><th scope=col>!ID</th><th scope=col>!Name</th><th scope=col>!KineticLaw</th><th scope=col>!ReactionFormula</th><th scope=col>!IsReversible</th></tr>\n",
       "\t<tr><th scope=col>&lt;chr&gt;</th><th scope=col>&lt;chr&gt;</th><th scope=col>&lt;chr&gt;</th><th scope=col>&lt;chr&gt;</th><th scope=col>&lt;int&gt;</th></tr>\n",
       "</thead>\n",
       "<tbody>\n",
       "\t<tr><td>reaction_1</td><td>reaction_1</td><td>kf_C_AKAR4*C*AKAR4 - kb_C_AKAR4*AKAR4_C</td><td>C + AKAR4 &lt;=&gt; AKAR4_C </td><td>1</td></tr>\n",
       "\t<tr><td>reaction_2</td><td>reaction_2</td><td><span style=white-space:pre-wrap>kcat_AKARp*AKAR4_C                     </span></td><td>AKAR4_C &lt;=&gt; AKAR4p + C</td><td>0</td></tr>\n",
       "</tbody>\n",
       "</table>\n"
      ],
      "text/latex": [
       "A data.frame: 2 × 5\n",
       "\\begin{tabular}{lllll}\n",
       " !ID & !Name & !KineticLaw & !ReactionFormula & !IsReversible\\\\\n",
       " <chr> & <chr> & <chr> & <chr> & <int>\\\\\n",
       "\\hline\n",
       "\t reaction\\_1 & reaction\\_1 & kf\\_C\\_AKAR4*C*AKAR4 - kb\\_C\\_AKAR4*AKAR4\\_C & C + AKAR4 <=> AKAR4\\_C  & 1\\\\\n",
       "\t reaction\\_2 & reaction\\_2 & kcat\\_AKARp*AKAR4\\_C                      & AKAR4\\_C <=> AKAR4p + C & 0\\\\\n",
       "\\end{tabular}\n"
      ],
      "text/markdown": [
       "\n",
       "A data.frame: 2 × 5\n",
       "\n",
       "| !ID &lt;chr&gt; | !Name &lt;chr&gt; | !KineticLaw &lt;chr&gt; | !ReactionFormula &lt;chr&gt; | !IsReversible &lt;int&gt; |\n",
       "|---|---|---|---|---|\n",
       "| reaction_1 | reaction_1 | kf_C_AKAR4*C*AKAR4 - kb_C_AKAR4*AKAR4_C | C + AKAR4 &lt;=&gt; AKAR4_C  | 1 |\n",
       "| reaction_2 | reaction_2 | kcat_AKARp*AKAR4_C                      | AKAR4_C &lt;=&gt; AKAR4p + C | 0 |\n",
       "\n"
      ],
      "text/plain": [
       "  !ID        !Name      !KineticLaw                            \n",
       "1 reaction_1 reaction_1 kf_C_AKAR4*C*AKAR4 - kb_C_AKAR4*AKAR4_C\n",
       "2 reaction_2 reaction_2 kcat_AKARp*AKAR4_C                     \n",
       "  !ReactionFormula       !IsReversible\n",
       "1 C + AKAR4 <=> AKAR4_C  1            \n",
       "2 AKAR4_C <=> AKAR4p + C 0            "
      ]
     },
     "metadata": {},
     "output_type": "display_data"
    },
    {
     "data": {
      "text/html": [
       "<table class=\"dataframe\">\n",
       "<caption>A data.frame: 1 × 4</caption>\n",
       "<thead>\n",
       "\t<tr><th scope=col>!ID</th><th scope=col>!Name</th><th scope=col>!Formula</th><th scope=col>!Unit</th></tr>\n",
       "\t<tr><th scope=col>&lt;chr&gt;</th><th scope=col>&lt;chr&gt;</th><th scope=col>&lt;chr&gt;</th><th scope=col>&lt;chr&gt;</th></tr>\n",
       "</thead>\n",
       "<tbody>\n",
       "\t<tr><td>AKAR4pOUT</td><td>AKAR4pOUT</td><td>AKAR4p</td><td>micromole/liter</td></tr>\n",
       "</tbody>\n",
       "</table>\n"
      ],
      "text/latex": [
       "A data.frame: 1 × 4\n",
       "\\begin{tabular}{llll}\n",
       " !ID & !Name & !Formula & !Unit\\\\\n",
       " <chr> & <chr> & <chr> & <chr>\\\\\n",
       "\\hline\n",
       "\t AKAR4pOUT & AKAR4pOUT & AKAR4p & micromole/liter\\\\\n",
       "\\end{tabular}\n"
      ],
      "text/markdown": [
       "\n",
       "A data.frame: 1 × 4\n",
       "\n",
       "| !ID &lt;chr&gt; | !Name &lt;chr&gt; | !Formula &lt;chr&gt; | !Unit &lt;chr&gt; |\n",
       "|---|---|---|---|\n",
       "| AKAR4pOUT | AKAR4pOUT | AKAR4p | micromole/liter |\n",
       "\n"
      ],
      "text/plain": [
       "  !ID       !Name     !Formula !Unit          \n",
       "1 AKAR4pOUT AKAR4pOUT AKAR4p   micromole/liter"
      ]
     },
     "metadata": {},
     "output_type": "display_data"
    },
    {
     "data": {
      "text/html": [
       "<table class=\"dataframe\">\n",
       "<caption>A data.frame: 3 × 3</caption>\n",
       "<thead>\n",
       "\t<tr><th scope=col>!ID</th><th scope=col>!Name</th><th scope=col>&gt;C</th></tr>\n",
       "\t<tr><th scope=col>&lt;chr&gt;</th><th scope=col>&lt;chr&gt;</th><th scope=col>&lt;dbl&gt;</th></tr>\n",
       "</thead>\n",
       "<tbody>\n",
       "\t<tr><td>AKAR4_400nM</td><td>AKAR4_400nM</td><td>0.400</td></tr>\n",
       "\t<tr><td>AKAR4_100nM</td><td>AKAR4_100nM</td><td>0.100</td></tr>\n",
       "\t<tr><td>AKAR4_25nM </td><td>AKAR4_25nM </td><td>0.025</td></tr>\n",
       "</tbody>\n",
       "</table>\n"
      ],
      "text/latex": [
       "A data.frame: 3 × 3\n",
       "\\begin{tabular}{lll}\n",
       " !ID & !Name & >C\\\\\n",
       " <chr> & <chr> & <dbl>\\\\\n",
       "\\hline\n",
       "\t AKAR4\\_400nM & AKAR4\\_400nM & 0.400\\\\\n",
       "\t AKAR4\\_100nM & AKAR4\\_100nM & 0.100\\\\\n",
       "\t AKAR4\\_25nM  & AKAR4\\_25nM  & 0.025\\\\\n",
       "\\end{tabular}\n"
      ],
      "text/markdown": [
       "\n",
       "A data.frame: 3 × 3\n",
       "\n",
       "| !ID &lt;chr&gt; | !Name &lt;chr&gt; | &gt;C &lt;dbl&gt; |\n",
       "|---|---|---|\n",
       "| AKAR4_400nM | AKAR4_400nM | 0.400 |\n",
       "| AKAR4_100nM | AKAR4_100nM | 0.100 |\n",
       "| AKAR4_25nM  | AKAR4_25nM  | 0.025 |\n",
       "\n"
      ],
      "text/plain": [
       "  !ID         !Name       >C   \n",
       "1 AKAR4_400nM AKAR4_400nM 0.400\n",
       "2 AKAR4_100nM AKAR4_100nM 0.100\n",
       "3 AKAR4_25nM  AKAR4_25nM  0.025"
      ]
     },
     "metadata": {},
     "output_type": "display_data"
    },
    {
     "data": {
      "text/html": [
       "<table class=\"dataframe\">\n",
       "<caption>A data.frame: 10 × 3</caption>\n",
       "<thead>\n",
       "\t<tr><th></th><th scope=col>!TimePoint</th><th scope=col>!Time</th><th scope=col>&gt;AKAR4pOUT</th></tr>\n",
       "\t<tr><th></th><th scope=col>&lt;chr&gt;</th><th scope=col>&lt;int&gt;</th><th scope=col>&lt;dbl&gt;</th></tr>\n",
       "</thead>\n",
       "<tbody>\n",
       "\t<tr><th scope=row>1</th><td>E400T001</td><td>-15</td><td>108.600</td></tr>\n",
       "\t<tr><th scope=row>2</th><td>E400T002</td><td>-10</td><td>111.350</td></tr>\n",
       "\t<tr><th scope=row>3</th><td>E400T003</td><td> -5</td><td>108.750</td></tr>\n",
       "\t<tr><th scope=row>4</th><td>E400T004</td><td>  0</td><td>111.400</td></tr>\n",
       "\t<tr><th scope=row>5</th><td>E400T005</td><td>  5</td><td>111.700</td></tr>\n",
       "\t<tr><th scope=row>6</th><td>E400T006</td><td> 10</td><td>113.250</td></tr>\n",
       "\t<tr><th scope=row>7</th><td>E400T007</td><td> 15</td><td>117.000</td></tr>\n",
       "\t<tr><th scope=row>8</th><td>E400T008</td><td> 20</td><td>120.700</td></tr>\n",
       "\t<tr><th scope=row>9</th><td>E400T009</td><td> 25</td><td>121.475</td></tr>\n",
       "\t<tr><th scope=row>10</th><td>E400T010</td><td> 30</td><td>125.275</td></tr>\n",
       "</tbody>\n",
       "</table>\n"
      ],
      "text/latex": [
       "A data.frame: 10 × 3\n",
       "\\begin{tabular}{r|lll}\n",
       "  & !TimePoint & !Time & >AKAR4pOUT\\\\\n",
       "  & <chr> & <int> & <dbl>\\\\\n",
       "\\hline\n",
       "\t1 & E400T001 & -15 & 108.600\\\\\n",
       "\t2 & E400T002 & -10 & 111.350\\\\\n",
       "\t3 & E400T003 &  -5 & 108.750\\\\\n",
       "\t4 & E400T004 &   0 & 111.400\\\\\n",
       "\t5 & E400T005 &   5 & 111.700\\\\\n",
       "\t6 & E400T006 &  10 & 113.250\\\\\n",
       "\t7 & E400T007 &  15 & 117.000\\\\\n",
       "\t8 & E400T008 &  20 & 120.700\\\\\n",
       "\t9 & E400T009 &  25 & 121.475\\\\\n",
       "\t10 & E400T010 &  30 & 125.275\\\\\n",
       "\\end{tabular}\n"
      ],
      "text/markdown": [
       "\n",
       "A data.frame: 10 × 3\n",
       "\n",
       "| <!--/--> | !TimePoint &lt;chr&gt; | !Time &lt;int&gt; | &gt;AKAR4pOUT &lt;dbl&gt; |\n",
       "|---|---|---|---|\n",
       "| 1 | E400T001 | -15 | 108.600 |\n",
       "| 2 | E400T002 | -10 | 111.350 |\n",
       "| 3 | E400T003 |  -5 | 108.750 |\n",
       "| 4 | E400T004 |   0 | 111.400 |\n",
       "| 5 | E400T005 |   5 | 111.700 |\n",
       "| 6 | E400T006 |  10 | 113.250 |\n",
       "| 7 | E400T007 |  15 | 117.000 |\n",
       "| 8 | E400T008 |  20 | 120.700 |\n",
       "| 9 | E400T009 |  25 | 121.475 |\n",
       "| 10 | E400T010 |  30 | 125.275 |\n",
       "\n"
      ],
      "text/plain": [
       "   !TimePoint !Time >AKAR4pOUT\n",
       "1  E400T001   -15   108.600   \n",
       "2  E400T002   -10   111.350   \n",
       "3  E400T003    -5   108.750   \n",
       "4  E400T004     0   111.400   \n",
       "5  E400T005     5   111.700   \n",
       "6  E400T006    10   113.250   \n",
       "7  E400T007    15   117.000   \n",
       "8  E400T008    20   120.700   \n",
       "9  E400T009    25   121.475   \n",
       "10 E400T010    30   125.275   "
      ]
     },
     "metadata": {},
     "output_type": "display_data"
    }
   ],
   "source": [
    "model$Compound\n",
    "model$Parameter\n",
    "model$Reaction\n",
    "model$Output\n",
    "model$Experiments\n",
    "model$AKAR4_400nM[1:10,]"
   ]
  },
  {
   "cell_type": "markdown",
   "id": "2a3224b9",
   "metadata": {},
   "source": [
    "When running function `import_from_SBtab`, the command-line program VFGEN is called (see: https://warrenweckesser.github.io/vfgen/index.html), and it is used to generate the files `[modelName].R`, `[modelName]_gfv.c` and `[modelName]_gfv.h`, that are located in the same folder as the SBtab spreadsheets. These files generated thrugh VFGEN contain the functions that implement the ODE vector field of the model.\n",
    "\n",
    "In our example, the model name is \"AKAR4\" and the vector field function is saved in file \"AKAR.R\":"
   ]
  },
  {
   "cell_type": "code",
   "execution_count": 6,
   "id": "c557a6c2",
   "metadata": {},
   "outputs": [
    {
     "data": {
      "text/html": [
       "<pre class=language-r><code>function (t, state, parameters) \n",
       "{\n",
       "<span style=white-space:pre-wrap>    AKAR4 &lt;- state[1]</span>\n",
       "<span style=white-space:pre-wrap>    AKAR4_C &lt;- state[2]</span>\n",
       "<span style=white-space:pre-wrap>    AKAR4p &lt;- state[3]</span>\n",
       "<span style=white-space:pre-wrap>    C &lt;- state[4]</span>\n",
       "<span style=white-space:pre-wrap>    kf_C_AKAR4 &lt;- parameters[1]</span>\n",
       "<span style=white-space:pre-wrap>    kb_C_AKAR4 &lt;- parameters[2]</span>\n",
       "<span style=white-space:pre-wrap>    kcat_AKARp &lt;- parameters[3]</span>\n",
       "<span style=white-space:pre-wrap>    reaction_1 &lt;- -kb_C_AKAR4 * AKAR4_C + AKAR4 * C * kf_C_AKAR4</span>\n",
       "<span style=white-space:pre-wrap>    reaction_2 &lt;- kcat_AKARp * AKAR4_C</span>\n",
       "<span style=white-space:pre-wrap>    vf_ &lt;- vector(len = 4)</span>\n",
       "<span style=white-space:pre-wrap>    vf_[1] = -reaction_1</span>\n",
       "<span style=white-space:pre-wrap>    vf_[2] = reaction_1 - reaction_2</span>\n",
       "<span style=white-space:pre-wrap>    vf_[3] = reaction_2</span>\n",
       "<span style=white-space:pre-wrap>    vf_[4] = -reaction_1 + reaction_2</span>\n",
       "<span style=white-space:pre-wrap>    return(list(vf_))</span>\n",
       "}</code></pre>"
      ],
      "text/latex": [
       "\\begin{minted}{r}\n",
       "function (t, state, parameters) \n",
       "\\{\n",
       "    AKAR4 <- state{[}1{]}\n",
       "    AKAR4\\_C <- state{[}2{]}\n",
       "    AKAR4p <- state{[}3{]}\n",
       "    C <- state{[}4{]}\n",
       "    kf\\_C\\_AKAR4 <- parameters{[}1{]}\n",
       "    kb\\_C\\_AKAR4 <- parameters{[}2{]}\n",
       "    kcat\\_AKARp <- parameters{[}3{]}\n",
       "    reaction\\_1 <- -kb\\_C\\_AKAR4 * AKAR4\\_C + AKAR4 * C * kf\\_C\\_AKAR4\n",
       "    reaction\\_2 <- kcat\\_AKARp * AKAR4\\_C\n",
       "    vf\\_ <- vector(len = 4)\n",
       "    vf\\_{[}1{]} = -reaction\\_1\n",
       "    vf\\_{[}2{]} = reaction\\_1 - reaction\\_2\n",
       "    vf\\_{[}3{]} = reaction\\_2\n",
       "    vf\\_{[}4{]} = -reaction\\_1 + reaction\\_2\n",
       "    return(list(vf\\_))\n",
       "\\}\n",
       "\\end{minted}"
      ],
      "text/markdown": [
       "```r\n",
       "function (t, state, parameters) \n",
       "{\n",
       "    AKAR4 <- state[1]\n",
       "    AKAR4_C <- state[2]\n",
       "    AKAR4p <- state[3]\n",
       "    C <- state[4]\n",
       "    kf_C_AKAR4 <- parameters[1]\n",
       "    kb_C_AKAR4 <- parameters[2]\n",
       "    kcat_AKARp <- parameters[3]\n",
       "    reaction_1 <- -kb_C_AKAR4 * AKAR4_C + AKAR4 * C * kf_C_AKAR4\n",
       "    reaction_2 <- kcat_AKARp * AKAR4_C\n",
       "    vf_ <- vector(len = 4)\n",
       "    vf_[1] = -reaction_1\n",
       "    vf_[2] = reaction_1 - reaction_2\n",
       "    vf_[3] = reaction_2\n",
       "    vf_[4] = -reaction_1 + reaction_2\n",
       "    return(list(vf_))\n",
       "}\n",
       "```"
      ],
      "text/plain": [
       "function (t, state, parameters) \n",
       "{\n",
       "    AKAR4 <- state[1]\n",
       "    AKAR4_C <- state[2]\n",
       "    AKAR4p <- state[3]\n",
       "    C <- state[4]\n",
       "    kf_C_AKAR4 <- parameters[1]\n",
       "    kb_C_AKAR4 <- parameters[2]\n",
       "    kcat_AKARp <- parameters[3]\n",
       "    reaction_1 <- -kb_C_AKAR4 * AKAR4_C + AKAR4 * C * kf_C_AKAR4\n",
       "    reaction_2 <- kcat_AKARp * AKAR4_C\n",
       "    vf_ <- vector(len = 4)\n",
       "    vf_[1] = -reaction_1\n",
       "    vf_[2] = reaction_1 - reaction_2\n",
       "    vf_[3] = reaction_2\n",
       "    vf_[4] = -reaction_1 + reaction_2\n",
       "    return(list(vf_))\n",
       "}"
      ]
     },
     "metadata": {},
     "output_type": "display_data"
    }
   ],
   "source": [
    "# load the R file with the vector field\n",
    "modelName <- \"AKAR4\"\n",
    "source(paste(SBtabDir,\"/\",modelName,\".R\",sep=\"\"))\n",
    "\n",
    "# print the vector field function\n",
    "AKAR4"
   ]
  },
  {
   "cell_type": "markdown",
   "id": "6a36f53e",
   "metadata": {},
   "source": [
    "## Import experimental data from SBtab into R"
   ]
  },
  {
   "cell_type": "markdown",
   "id": "fb64b6d3",
   "metadata": {},
   "source": [
    "Experimental data are also stored in the SBtab files. In particular, we created a table for each time series experiment, together with one table that summarized all the information about each experiment (i.e. initial conditions and input).\n",
    "\n",
    "To import the experimental data we implemented the R function `import_experiments`, that requires as input the model name and the path of the folder with the .tsv files in the SBtab format. The output of `import_experiments` is a list, here denoted by `experiments`. Each element of this list corresponds to one experiment.\n",
    "\n",
    "In this example, the experiments are time series data, that report the concentration of AKAR4 at several time points. "
   ]
  },
  {
   "cell_type": "code",
   "execution_count": 7,
   "id": "e364d8a9",
   "metadata": {
    "scrolled": true
   },
   "outputs": [
    {
     "data": {
      "text/html": [
       "<style>\n",
       ".list-inline {list-style: none; margin:0; padding: 0}\n",
       ".list-inline>li {display: inline-block}\n",
       ".list-inline>li:not(:last-child)::after {content: \"\\00b7\"; padding: 0 .5ex}\n",
       "</style>\n",
       "<ol class=list-inline><li>'initialState'</li><li>'input'</li><li>'outputTimes'</li><li>'outputNames'</li><li>'outputId'</li><li>'outputValues'</li><li>'outputFunction'</li></ol>\n"
      ],
      "text/latex": [
       "\\begin{enumerate*}\n",
       "\\item 'initialState'\n",
       "\\item 'input'\n",
       "\\item 'outputTimes'\n",
       "\\item 'outputNames'\n",
       "\\item 'outputId'\n",
       "\\item 'outputValues'\n",
       "\\item 'outputFunction'\n",
       "\\end{enumerate*}\n"
      ],
      "text/markdown": [
       "1. 'initialState'\n",
       "2. 'input'\n",
       "3. 'outputTimes'\n",
       "4. 'outputNames'\n",
       "5. 'outputId'\n",
       "6. 'outputValues'\n",
       "7. 'outputFunction'\n",
       "\n",
       "\n"
      ],
      "text/plain": [
       "[1] \"initialState\"   \"input\"          \"outputTimes\"    \"outputNames\"   \n",
       "[5] \"outputId\"       \"outputValues\"   \"outputFunction\""
      ]
     },
     "metadata": {},
     "output_type": "display_data"
    },
    {
     "name": "stdout",
     "output_type": "stream",
     "text": [
      "[1] 0.2 0.0 0.0 0.4\n"
     ]
    }
   ],
   "source": [
    "experiments <- suppressMessages(import_experiments(modelName, SBtabDir))\n",
    "\n",
    "# print first experiment\n",
    "names(experiments[[1]])\n",
    "print(experiments[[1]][[\"initialState\"]])"
   ]
  },
  {
   "cell_type": "markdown",
   "id": "5bada97b",
   "metadata": {},
   "source": [
    "# Uncertainty Quantification"
   ]
  },
  {
   "cell_type": "markdown",
   "id": "e18e99b4",
   "metadata": {},
   "source": [
    "## Define priors for parameters"
   ]
  },
  {
   "cell_type": "markdown",
   "id": "bf3432ca",
   "metadata": {},
   "source": [
    "We decided to use a log-uniform distribution for the parameters, centered in their default value (read from the SBtab) and with lower and upper limit, respectively, 1000-fold larger and smaller than the default value:\n",
    "\n",
    "\\[defaulParameter / 1000 ; defaultParameter * 1000\\]\n"
   ]
  },
  {
   "cell_type": "code",
   "execution_count": 8,
   "id": "e26f5239",
   "metadata": {},
   "outputs": [],
   "source": [
    "# default values of parameters\n",
    "parVal <- model[[\"Parameter\"]][[\"!DefaultValue\"]]\n",
    "\n",
    "# scale to determine the log uniform prior distribution\n",
    "defRange <- 1000\n",
    "\n",
    "# parIdx is the vector of indices of parameters on which we perform UQ.\n",
    "# The other parameters are fixed at their default value.\n",
    "# In this example we perform UQ on all the parameters.\n",
    "parIdx <- 1:length(parVal)   \n",
    "\n",
    "\n",
    "ll <- parVal/defRange\n",
    "ul <- parVal*defRange\n",
    "ll = log10(ll) # log10-scale\n",
    "ul = log10(ul) # log10-scale"
   ]
  },
  {
   "cell_type": "markdown",
   "id": "a27d4183",
   "metadata": {},
   "source": [
    "## Define the ABC setting"
   ]
  },
  {
   "cell_type": "markdown",
   "id": "c7431f94",
   "metadata": {},
   "source": [
    "We will perform the UQ applying the ABCMCMC algorithm in multiple steps.\n",
    "At each step we consider the data from one of the three experiments that we read from the SBtab tables."
   ]
  },
  {
   "cell_type": "code",
   "execution_count": 9,
   "id": "7b2da6da",
   "metadata": {},
   "outputs": [],
   "source": [
    "# Define the experiments to consider in each step of the ABCMCMC algorithm\n",
    "\n",
    "experimentsIndices <- list(1,2,3)\n",
    "\n",
    "npc <- 500    # number of samples for the Precalibration (npc) \n",
    "              # On a cluster, we can use 5000 or 50000.\n",
    "p <- 0.01     # For the Pre-Calibration: Choose Top 1% samples with shortest distance to the experimental values\n",
    "\n",
    "\n",
    "nChains <- 4  # For the ABC-MCMC Process: number of chains that are created in parallel \n",
    "ns <- 100     # number of samples in each ABC-MCMC chain (ns)\n",
    "              # On a cluster, we can use 1000.\n",
    "delta <- 0.01 # Distance threshold to compare experimental data and simulated data\n",
    "\n",
    "# Define the number of Cores for parallelized computations\n",
    "nCores <- 2\n",
    "\n",
    "# Scaling factor, used to define the covariance matrix in the ABCMCMC \n",
    "sfactor <- 0.1  \n",
    "\n",
    "# Choose whether to solve ODEs in R or C\n",
    "environment <- \"C\"\n",
    "\n",
    "set.seed(123456)"
   ]
  },
  {
   "cell_type": "markdown",
   "id": "ca9ba9e1",
   "metadata": {},
   "source": [
    "Create a customized distance function"
   ]
  },
  {
   "cell_type": "code",
   "execution_count": 10,
   "id": "c1217085",
   "metadata": {},
   "outputs": [],
   "source": [
    "# Define the score function to compare simulated data with experimental data\n",
    "\n",
    "getScore  <- function(yy_sim, yy_exp){\n",
    "  yy_sim <- (yy_sim-0)/(0.2-0.0)\n",
    "  ifelse(!is.na(yy_exp), yy_exp <- (yy_exp-108.6)/(183.9-108.6), Inf)\n",
    "  distance <- mean((yy_sim-yy_exp)^2)\n",
    "  return(distance)\n",
    "}"
   ]
  },
  {
   "cell_type": "markdown",
   "id": "c075ed72",
   "metadata": {},
   "source": [
    "## ABCMCMC"
   ]
  },
  {
   "cell_type": "markdown",
   "id": "9e89fa90",
   "metadata": {},
   "source": [
    "We start the UQ by running the ABCMCMC algorithm with data from the first experiment."
   ]
  },
  {
   "cell_type": "code",
   "execution_count": 11,
   "id": "f92dbb15",
   "metadata": {},
   "outputs": [],
   "source": [
    "#first set of experiments\n",
    "expInd <- experimentsIndices[[1]]"
   ]
  },
  {
   "cell_type": "markdown",
   "id": "bee6161e",
   "metadata": {},
   "source": [
    "The first step consists in creating a copula that will describe the prior distribution of parameters. "
   ]
  },
  {
   "cell_type": "code",
   "execution_count": 12,
   "id": "02eafd20",
   "metadata": {},
   "outputs": [],
   "source": [
    "# Fit independent copula\n",
    "out <- makeIndepCopula(ll, ul)\n",
    "copula <- out$copula\n",
    "U <- out$U\n",
    "Z <- out$Z\n",
    "Y <- out$Y"
   ]
  },
  {
   "cell_type": "markdown",
   "id": "dc41842a",
   "metadata": {},
   "source": [
    "Using the copula, we can run functions `preCalibration` and `getMCMCPar`, that will determine a starting parameter (`startPar`) for each of the ABCMCMC chains, and a covariance matrix (`Sigma`) that will be used in the ABCMCMC algorithm."
   ]
  },
  {
   "cell_type": "code",
   "execution_count": null,
   "id": "1944d9a9",
   "metadata": {},
   "outputs": [],
   "source": [
    "## Run Pre-Calibration Sampling\n",
    "out1 <- preCalibration(experiments[expInd], modelName, parVal, parIdx, npc, copula, U, Z, getScore, nCores = nCores, environment)\n",
    "  \n",
    "## Get Starting Parameters from Pre-Calibration\n",
    "out2 <- getMCMCPar(out1$prePar, out1$preDelta, p, sfactor, delta, nChains)\n",
    "Sigma <- out2$Sigma\n",
    "startPar <- out2$startPar\n",
    "  "
   ]
  },
  {
   "cell_type": "markdown",
   "id": "1ef02eac",
   "metadata": {},
   "source": [
    "The ABCMCMC algorithm is performed by function `ABCMCMC`, that can be run in parallel for each chain."
   ]
  },
  {
   "cell_type": "code",
   "execution_count": null,
   "id": "9cdf2a72",
   "metadata": {},
   "outputs": [],
   "source": [
    "## Run ABC-MCMC Sampling\n",
    "cl <- makeForkCluster(nChains)\n",
    "draws <- parLapply(cl, 1:nChains, function(k) ABCMCMC(experiments[expInd], modelName, startPar[k,], parIdx, parVal, ns, Sigma, delta, U, Z, Y, copula, ll, ul, getScore, nCores, environment))\n",
    "stopCluster(cl)"
   ]
  },
  {
   "cell_type": "markdown",
   "id": "e671dbac",
   "metadata": {},
   "source": [
    "The output of `ABCMCMC` is a list, containing the draws of each chain. We now convert a list into a matrix with all the draws (from all the chains)."
   ]
  },
  {
   "cell_type": "code",
   "execution_count": null,
   "id": "919f14a5",
   "metadata": {},
   "outputs": [],
   "source": [
    "# put draws together (from list to matrix)\n",
    "draws <- do.call(\"rbind\", draws)\n",
    "pick <- !apply(draws, 1, function(rw) all(rw==0))\n",
    "draws <- draws[pick,]"
   ]
  },
  {
   "cell_type": "markdown",
   "id": "9ef58d5d",
   "metadata": {},
   "source": [
    "Let us inspect the matrix of draws `draws`."
   ]
  },
  {
   "cell_type": "code",
   "execution_count": null,
   "id": "76dc0a02",
   "metadata": {},
   "outputs": [],
   "source": [
    "dim(draws)\n",
    "head(draws)"
   ]
  },
  {
   "cell_type": "markdown",
   "id": "f9463f07",
   "metadata": {},
   "source": [
    "Each row of matrix `draws` corresponds to a parameter that, when used in the ODE model, produces simulations that are \"close enough\" to the experimental data. This is illustrated by the following plot, produced by function `plotDataAndSimulations`: for each parameter draw produced by the ABCMCMC algorithm, we simulate the ODE system using the same initial conditions and input as the considered experiment (first experiment) and plot the simulated time series, together with the experimental data."
   ]
  },
  {
   "cell_type": "code",
   "execution_count": null,
   "id": "22ec4ed3",
   "metadata": {},
   "outputs": [],
   "source": [
    "source(paste0(SBtabDir,\"/plotFunctionsAKAR4.R\"))\n",
    "\n",
    "plotDataAndSimulations(draws, expInd=1)"
   ]
  },
  {
   "cell_type": "markdown",
   "id": "cb2e4722",
   "metadata": {},
   "source": [
    "The empirical distribution of parameter draws is an approximation of the posterior distribution of parameters, gived data from the first experiment.\n",
    "\n",
    "We fit a copula based on this posterior parameter distribution, and we use it as prior parameter distribution for the following UQ, where we will consider data from the second experiment."
   ]
  },
  {
   "cell_type": "code",
   "execution_count": null,
   "id": "af943934",
   "metadata": {},
   "outputs": [],
   "source": [
    "#Fitting Copula based on previous MCMC runs\n",
    "out <- fitCopula(draws, ll, ul, nCores=1)        \n",
    "copula <- out$copula\n",
    "U <- out$U\n",
    "Z <- out$Z\n",
    "Y <- out$Y\n",
    "\n",
    "#second set of experiments\n",
    "expInd <- experimentsIndices[[2]]\n",
    "\n",
    "## Run Pre-Calibration Sampling\n",
    "out1 <- preCalibration(experiments[expInd], modelName, parVal, parIdx, npc, copula, U, Z, getScore, nCores = nCores, environment)\n",
    "out2 <- getMCMCPar(out1$prePar, out1$preDelta, p, sfactor, delta, nChains)\n",
    "Sigma <- out2$Sigma\n",
    "startPar <- out2$startPar\n",
    "\n",
    "## Run ABC-MCMC Sampling\n",
    "cl <- makeForkCluster(nChains)\n",
    "draws <- parLapply(cl, 1:nChains, function(k) ABCMCMC(experiments[expInd], modelName, startPar[k,], parIdx, parVal, ns, Sigma, delta, U, Z, Y, copula, ll, ul, getScore, nCores, environment))\n",
    "stopCluster(cl)\n",
    "                   \n",
    "# put draws together (from list to matrix)\n",
    "draws <- do.call(\"rbind\", draws)\n",
    "pick <- !apply(draws, 1, function(rw) all(rw==0))\n",
    "draws <- draws[pick,]\n",
    "               \n",
    "dim(draws)\n",
    "head(draws)\n"
   ]
  },
  {
   "cell_type": "markdown",
   "id": "944a45e4",
   "metadata": {},
   "source": [
    "We use the draws, sampled through the ABCMCMC algorithm, to simulate trajectories.\n",
    "We plot the trajectories (blue curves), together with the data from experiment 2 (black dots), using function `plotDataAndSimulations`."
   ]
  },
  {
   "cell_type": "code",
   "execution_count": null,
   "id": "659de78e",
   "metadata": {},
   "outputs": [],
   "source": [
    "plotDataAndSimulations(draws, expInd=2)"
   ]
  },
  {
   "cell_type": "markdown",
   "id": "35164042",
   "metadata": {},
   "source": [
    "The simulated time series agree with the experimental data from experiment 2.\n",
    "This is reasonable, also due to the fact that we used data frmo experiment 2 in the ABCMCMC algorithm.\n",
    "\n",
    "We now use the same draws applied to the same initial conditions as experiment 1, to see whether these parameters fit also the first experimental dataset."
   ]
  },
  {
   "cell_type": "code",
   "execution_count": null,
   "id": "2779b374",
   "metadata": {},
   "outputs": [],
   "source": [
    "plotDataAndSimulations(draws, expInd=1)"
   ]
  },
  {
   "cell_type": "markdown",
   "id": "5279e399",
   "metadata": {},
   "source": [
    "Some of the draws lead to simulated time series (blue curves) that are \"too far\" from the first experiment data. Hence, we filter out such draws using function `checkFitWithPreviousExperiments`."
   ]
  },
  {
   "cell_type": "code",
   "execution_count": null,
   "id": "cdf25df8",
   "metadata": {},
   "outputs": [],
   "source": [
    "# Checking fit with dataset 1\n",
    "draws <- checkFitWithPreviousExperiments(2, experimentsIndices, modelName, \n",
    "                                         draws, experiments, parVal, parIdx, \n",
    "                                         getScore, delta, environment, nCores, nChains)"
   ]
  },
  {
   "cell_type": "code",
   "execution_count": null,
   "id": "e20a23d4",
   "metadata": {},
   "outputs": [],
   "source": [
    "dim(draws)\n",
    "head(draws)"
   ]
  },
  {
   "cell_type": "markdown",
   "id": "2ee800a5",
   "metadata": {},
   "source": [
    "We plot again the simulated time series and the data point for the first and second experiment."
   ]
  },
  {
   "cell_type": "code",
   "execution_count": null,
   "id": "6297c61b",
   "metadata": {},
   "outputs": [],
   "source": [
    "plotDataAndSimulations(draws, expInd=1)"
   ]
  },
  {
   "cell_type": "code",
   "execution_count": null,
   "id": "14e40264",
   "metadata": {},
   "outputs": [],
   "source": [
    "plotDataAndSimulations(draws, expInd=2)"
   ]
  },
  {
   "cell_type": "markdown",
   "id": "0308f795",
   "metadata": {},
   "source": [
    "We now prceed with the UQ using the third dataset, using a prior distribution given by the copula, fit with the draws from the previous step. "
   ]
  },
  {
   "cell_type": "code",
   "execution_count": null,
   "id": "bf9c3a94",
   "metadata": {},
   "outputs": [],
   "source": [
    "#third set of experiments\n",
    "expInd <- experimentsIndices[[3]]\n",
    "\n",
    "#Fitting Copula based on previous MCMC runs\n",
    "out <- fitCopula(draws, ll, ul, 1)        \n",
    "copula <- out$copula\n",
    "U <- out$U\n",
    "Z <- out$Z\n",
    "Y <- out$Y\n",
    "  \n",
    "## Run Pre-Calibration Sampling\n",
    "out1 <- preCalibration(experiments[expInd], modelName, parVal, parIdx, npc, copula, U, Z, getScore, nCores = nCores, environment)\n",
    "  \n",
    "## Get Starting Parameters from Pre-Calibration\n",
    "out2 <- getMCMCPar(out1$prePar, out1$preDelta, p, sfactor, delta, nChains)\n",
    "Sigma <- out2$Sigma\n",
    "startPar <- out2$startPar\n",
    "\n",
    "## Run ABC-MCMC Sampling\n",
    "cl <- makeForkCluster(nChains)\n",
    "draws <- parLapply(cl, 1:nChains, function(k) ABCMCMC(experiments[expInd], modelName, startPar[k,], parIdx, parVal, ns, Sigma, delta, U, Z, Y, copula, ll, ul, getScore, nCores, environment))\n",
    "stopCluster(cl)\n",
    "                   \n",
    "# put draws together (from list to matrix)\n",
    "draws <- do.call(\"rbind\", draws)\n",
    "pick <- !apply(draws, 1, function(rw) all(rw==0))\n",
    "draws <- draws[pick,]"
   ]
  },
  {
   "cell_type": "code",
   "execution_count": null,
   "id": "95aaad09",
   "metadata": {},
   "outputs": [],
   "source": [
    "dim(draws)\n",
    "head(draws)"
   ]
  },
  {
   "cell_type": "markdown",
   "id": "3a87b0b5",
   "metadata": {},
   "source": [
    "We plot the timeseries data in the third experiments, and the simulated timeseries where the parameters in `draws` are used."
   ]
  },
  {
   "cell_type": "code",
   "execution_count": null,
   "id": "29cf6058",
   "metadata": {},
   "outputs": [],
   "source": [
    "plotDataAndSimulations(draws, expInd=3)"
   ]
  },
  {
   "cell_type": "markdown",
   "id": "d764dbe5",
   "metadata": {},
   "source": [
    "We compare the experimental datapoints of experiment 1 with the simulations obtained with the parameters in `draws` and the same initial conditions as in experiment 1."
   ]
  },
  {
   "cell_type": "code",
   "execution_count": null,
   "id": "7ba2d13b",
   "metadata": {},
   "outputs": [],
   "source": [
    "plotDataAndSimulations(draws, expInd=1)"
   ]
  },
  {
   "cell_type": "markdown",
   "id": "2a94f69b",
   "metadata": {},
   "source": [
    "We compare the experimental datapoints of experiment 2 with the simulations obtained with the parameters in `draws` and the same initial conditions as in experiment 2."
   ]
  },
  {
   "cell_type": "code",
   "execution_count": null,
   "id": "5b4b4625",
   "metadata": {},
   "outputs": [],
   "source": [
    "plotDataAndSimulations(draws, expInd=2)"
   ]
  },
  {
   "cell_type": "markdown",
   "id": "1f510c4d",
   "metadata": {},
   "source": [
    "We filter out the parameters that produce simulations that are \"too far\" from the data in experiment 1 and 2."
   ]
  },
  {
   "cell_type": "code",
   "execution_count": null,
   "id": "186584d1",
   "metadata": {},
   "outputs": [],
   "source": [
    "# Checking fit with dataset 1\n",
    "draws <- checkFitWithPreviousExperiments(3, experimentsIndices, modelName, \n",
    "                                         draws, experiments, parVal, parIdx, \n",
    "                                         getScore, delta, environment, nCores, nChains)\n"
   ]
  },
  {
   "cell_type": "code",
   "execution_count": null,
   "id": "046e17c6",
   "metadata": {},
   "outputs": [],
   "source": [
    "dim(draws)\n",
    "head(draws)"
   ]
  },
  {
   "cell_type": "markdown",
   "id": "e4c9a6b5",
   "metadata": {},
   "source": [
    "We plot again simulations and experimental datapoint in the 3 experimental setups."
   ]
  },
  {
   "cell_type": "code",
   "execution_count": null,
   "id": "db8e57a7",
   "metadata": {},
   "outputs": [],
   "source": [
    "plotDataAndSimulations(draws, expInd=1)"
   ]
  },
  {
   "cell_type": "code",
   "execution_count": null,
   "id": "24045534",
   "metadata": {},
   "outputs": [],
   "source": [
    "plotDataAndSimulations(draws, expInd=2)"
   ]
  },
  {
   "cell_type": "code",
   "execution_count": null,
   "id": "176aa55e",
   "metadata": {},
   "outputs": [],
   "source": [
    "plotDataAndSimulations(draws, expInd=3)"
   ]
  },
  {
   "cell_type": "markdown",
   "id": "f5055595",
   "metadata": {},
   "source": [
    "## Plot final results "
   ]
  },
  {
   "cell_type": "code",
   "execution_count": null,
   "id": "fad35aa6",
   "metadata": {},
   "outputs": [],
   "source": [
    "parNames <- model[[\"Parameter\"]][[\"!Name\"]]\n",
    "# histograms \n",
    "par(mfrow=c(2,3))\n",
    "for(i in 1:3){\n",
    "  hist(draws[,i], main=parNames[i], xlab = \"Value in log scale\")\n",
    "}\n",
    "\n",
    "# scatterplot for pairs of parameters\n",
    "combinePar <- list(c(1,2), c(1,3), c(2,3))\n",
    "for(i in combinePar){\n",
    "  plot(draws[,i[1]], draws[,i[2]], xlab = parNames[i[1]], ylab = parNames[i[2]])\n",
    "}\n"
   ]
  },
  {
   "cell_type": "code",
   "execution_count": null,
   "id": "f15e9acd",
   "metadata": {},
   "outputs": [],
   "source": [
    "# scatter plot\n",
    "suppressMessages(library(plotly))\n",
    "par(mfrow=c(1,1))\n",
    "df = as.data.frame(draws)\n",
    "colnames(df) <- parNames\n",
    "plot_ly(dat = df, x = ~kf_C_AKAR4, y = ~kb_C_AKAR4, z = ~kcat_AKARp, type=\"scatter3d\", mode=\"markers\", marker=list(size = 1, color = \"red\"))\n",
    "\n"
   ]
  },
  {
   "cell_type": "markdown",
   "id": "3f982647",
   "metadata": {},
   "source": [
    "# Additional information about the methods"
   ]
  },
  {
   "cell_type": "markdown",
   "id": "2df5f721",
   "metadata": {},
   "source": [
    "## ABC-MCMC with copulas"
   ]
  },
  {
   "cell_type": "markdown",
   "id": "55458ddc",
   "metadata": {},
   "source": [
    "In ABC, samples from a prior distribution (or a proposal distribution) are accepted if the experimental data are reproduced by simulations from the model within a certain margin, so that a distance measure $\\rho(S(\\mathbf{y}^{sim}),S(\\mathbf{y}^\\text{exp}))$ is smaller than some predefined cut-off $\\delta$ (S is a summary statistic of the data). The accepted parameter sets $\\mathbf{\\theta}$ will form the approximate posterior distribution $f(\\mathbf{\\theta}|\\rho(S(\\mathbf{y}^\\text{exp}),S(\\mathbf{y}^{sim}))\\leq\\delta)$. \n",
    "\n",
    "We use a distance measure, or scoring function, that accounts for deviations on both the model output (y-axis) and model input (x-axis) since the experimental data may be subject to experimental error both regarding input and output.  \n",
    "\n",
    "We couple ABC to Markov chain Monte Carlo (MCMC) to efficiently sample from the posterior distribution of the parameters of interest. The model is fitted to the datasets in sequence. In order to incorporate the information from each fit, we do the following:\n",
    "\n",
    "* Fit the model to one datataset, producing a posterior distribution\n",
    "* Fit a copula to the posterior distribution \n",
    "* Use the copula as a prior to fit the model to the next dataset\n",
    "\n",
    "We use graphical models called R-vines to formulate copulas that are constructed in pairs in order to describe the dependencies over multiple parameters. \n",
    "\n"
   ]
  },
  {
   "cell_type": "markdown",
   "id": "db418283",
   "metadata": {},
   "source": [
    "### Copulas\n",
    "\n",
    "Copulas are multivariate probability distributions which describe the dependence structure between stochastic variables. The copula is a function that connects the multivariate distribution function to the marginal ones ($F_i$) as follows.\n",
    "\n",
    "$$\n",
    "F(\\mathbf{x}) = C(F_1(x_1), \\ldots, F_d(x_d))\n",
    "$$ \n",
    "\n",
    "It can be shown that the multivariate (joint) density can be represented by a number of appropriate pair-copulas times the conditional marginal densities based on a pair-copula factorization. For a distribution over three variables, we have\n",
    "\n",
    "$$\n",
    "f(x_1, x_2, x_3) = c_{1,2}(F_1(x_1),F_2(x_2))c_{2,3|1} (F(x_2|x_1), F(x_3|x_1))c_{1,3}(F_1(x_1), F_3(x_3))f_1(x_1) f_3 (x_3) f_2(x_2)\\\\\n",
    "$$\n",
    "\n",
    "The copula pairs can be chosen independently of each other giving a wide range of possible dependence structures. We use graphical models called R-vines to arrange the pair copulas in a tree structure. \n",
    "\n",
    "Let's assume we work with a simple bivariate distribution and that we have a bivariate sample $\\mathbf{x}=[\\mathbf{x}_1, \\mathbf{x}_2]$. For each variable $X_1$ and $X_2$, we estimate a cumulative distribution $P(X_1 \\leq x_1)$ and $P(X_2 \\leq x_2)$ (this can be done in R using e.g. the kcde or ecdf functions). We evaluate these cumulative densities in the sample points $[\\mathbf{x}_1, \\mathbf{x}_2]$ and denote this information $\\mathbf{z}=[\\mathbf{z}_1, \\mathbf{z}_2]$. This step maps the sample points ($\\mathbf{x}$) into the $[0,1]$ space and we fit a copula to $\\mathbf{z}$ in this space.\n",
    "\n",
    "\n"
   ]
  },
  {
   "cell_type": "markdown",
   "id": "0a06af96",
   "metadata": {},
   "source": [
    "### Pre-calibration\n",
    "\n",
    "Each fit to a dataset begins with a pre-calibration step, in order to construct a covariance matrix for the MCMC transition kernel as well as finding starting points for the MCMC chains.\n",
    "\n",
    "In the pre-calibration step we sample independently from the prior distribution a number of times ($npc$) to produce a set of samples. We generate simulated output from the model for each parameter set and check, using the distance measure, how close the simulated outputs $\\mathbf{y}^{sim}$are to the experimental data $\\mathbf{y}^{exp}$. We save a certain fraction $p$ of the samples that have the smallest distances. With these samples, we estimate a covariance matrix that is used as transition kernel Q (scaled appropriately) for the MCMC chains. We also pick random starting points for the chains. \n",
    "\n",
    "In order to perform a streamlined computational pipeline, we always formulate the prior distribution of the parameters in the form of a copula. For the fit to the first dataset, when we have uniform independent priors for all parameters, we use an independece copula, where all copula pairs (i.e. pairs of parameters) are independent. "
   ]
  }
 ],
 "metadata": {
  "celltoolbar": "Raw Cell Format",
  "kernelspec": {
   "display_name": "R",
   "language": "R",
   "name": "ir"
  },
  "language_info": {
   "codemirror_mode": "r",
   "file_extension": ".r",
   "mimetype": "text/x-r-source",
   "name": "R",
   "pygments_lexer": "r",
   "version": "4.1.2"
  }
 },
 "nbformat": 4,
 "nbformat_minor": 5
}
