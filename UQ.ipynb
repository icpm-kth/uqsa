{
 "cells": [
  {
   "cell_type": "markdown",
   "id": "2a0c6174",
   "metadata": {},
   "source": [
    "# Uncertainty quantification"
   ]
  },
  {
   "cell_type": "markdown",
   "id": "4e170c2f",
   "metadata": {},
   "source": [
    "In this notebook, we exemplify an uncertainty quantification (UQ) method as outlined in the paper \"Uncertainty quantification, propagation and characterization by Bayesian analysis combined with global sensitivity analysis applied to\n",
    "dynamical intracellular pathway models\" by Eriksson and Jauhiainen et al. \n",
    "\n",
    "The purpose of inverse uncertainty quantification is to estimate unknown parameters of a model from observed data, and at the same time quantify the uncertainty in these parameter estimates. We do this in a Bayesian framework by characterizing\n",
    "the posterior distribution of the parameters via Approxiamte Bayesian Computation (ABC) coupled to Markov chain Monte Carlo (MCMC). \n",
    "\n",
    "The contents of this Notebook are licensed as: CC BY 4.0 (https://creativecommons.org/licenses/by/4.0/)\n"
   ]
  },
  {
   "cell_type": "code",
   "execution_count": null,
   "id": "a43b5318",
   "metadata": {},
   "outputs": [],
   "source": [
    "uqsaDirectory <- getwd()"
   ]
  },
  {
   "cell_type": "markdown",
   "id": "075c43da",
   "metadata": {},
   "source": [
    "## Prerequisites\n",
    "\n",
    "In order to run this notebook, you need to have an R kernel installed, and the following packages installed within your R distribution (you may need to run `install.packages(\"[packageName]\")` first):"
   ]
  },
  {
   "cell_type": "code",
   "execution_count": null,
   "id": "94225d56",
   "metadata": {},
   "outputs": [],
   "source": [
    "remotes::install_github(\"a-kramer/SBtabVFGEN\")            # R package to generate vector field files from SBtab\n",
    "remotes::install_github(\"a-kramer/rgsl\")    # R package to solve ODEs with the C library \"gsl\"\n",
    "remotes::install_github(\"icpm-kth/uqsa\", subdir=c(\"UQ\"))\n",
    "\n",
    "# example of how to install an R package\n",
    "# install.packages(\"VineCopula\")"
   ]
  },
  {
   "cell_type": "code",
   "execution_count": null,
   "id": "2f1ea464",
   "metadata": {},
   "outputs": [],
   "source": [
    "library(SBtabVFGEN)\n",
    "library(rgsl)\n",
    "library(UQ)\n",
    "\n",
    "\n",
    "library(parallel)\n",
    "library(VineCopula)\n",
    "library(MASS)\n",
    "library(ks)\n",
    "library(R.utils)\n",
    "library(deSolve)\n",
    "library(reshape2)\n",
    "library(ggplot2)"
   ]
  },
  {
   "cell_type": "markdown",
   "id": "c4a86cec",
   "metadata": {},
   "source": [
    "The R package with the functions that we implemented for UQ are available at https://github.com/icpm-kth/uqsa, in the UQ subfolder.\n",
    "To install the package, the following lines of code can be used:"
   ]
  },
  {
   "cell_type": "markdown",
   "id": "20c6a0cd",
   "metadata": {},
   "source": [
    "## The model"
   ]
  },
  {
   "cell_type": "markdown",
   "id": "c76f0af9",
   "metadata": {},
   "source": [
    "We show our uncertainty quantification toolset applied to the small model (here denoted by \"AKAR4\") describing the interaction between the reporter protein AKAR4 and PKA, which is a small part of the model presented in \"AKAP79 enables calcineurin to directly suppress protein kinase A activity\" (Church TW, Tewatia P, Hannan S, et al. Elife. 2021;10:e68164. Published 2021 Oct 6. doi:10.7554/eLife.68164).\n",
    "\n",
    "In particular, we work with ordinary differential equation (ODE) models. In general, an ODE model is described by the following:\n",
    "\n",
    "\\begin{cases}\n",
    "&\\dot{\\mathbf{x}}(t) &&= f(\\mathbf{x}(t), \\mathbf{u}(t), \\mathbf{p}) \\nonumber \\\\\n",
    "&\\mathbf{x}(t_0) &&=\\mathbf{x_0} \\label{eq:model}\\\\\n",
    "&\\mathbf{y}(t) &&= g(\\mathbf{x}(t),\\mathbf{s}) \\nonumber\n",
    "\\end{cases}\n",
    "\n",
    "where\n",
    "- $\\mathbf{x}(t)$ corresponds to internal state variables (compounds, in our case), \n",
    "- $\\mathbf{u}(t)$ to external input (species concentrations that are controlled by experimentalists),\n",
    "- $\\mathbf{y}(t)$ are the outputs (measurements from experiments),\n",
    "- $\\mathbf{p}$ are system parameters (on which we want to perform UQ),\n",
    "- $\\mathbf{s}$ are parameters for the readouts.\n",
    "\n",
    "The parameters $\\mathbf{\\theta}=(\\mathbf{p}, \\mathbf{s})$ together with the initial conditions $\\mathbf{x}(t_0)$ and the input $\\mathbf{u}(t)$ fully specify the output from the system.\n",
    "\n"
   ]
  },
  {
   "cell_type": "markdown",
   "id": "b9e53bbf",
   "metadata": {},
   "source": [
    "We use SBtab to describe the model and store experimental data.\n",
    "Basing on the SBtab format, we created a folder with all the spreadsheet files in .tsv extension.\n",
    "The information about the model is contained in the tables of compounds, parameters, reactions, input (not present in this simple model) and output."
   ]
  },
  {
   "cell_type": "markdown",
   "id": "a9c23fe0",
   "metadata": {},
   "source": [
    "## Import model from SBtab into R"
   ]
  },
  {
   "cell_type": "markdown",
   "id": "9a54423a",
   "metadata": {},
   "source": [
    "To import the model from the SBtab spreadsheet files (see: https://www.sbtab.net), we implemented the R function `import_from_SBtab`. \n",
    "The input to this function is the path of the directry where all the SBtab files (in .tsv extension) are stored.\n",
    "The output is a list (here called `model`) containing all the information about the model."
   ]
  },
  {
   "cell_type": "code",
   "execution_count": null,
   "id": "2e9b4106",
   "metadata": {},
   "outputs": [],
   "source": [
    "SBtabDir <- paste0(uqsaDirectory,\"/AKAR4\") # write path of folder with all the SBtab (.tsv) files\n",
    "setwd(SBtabDir)\n",
    "model = import_from_SBtab(SBtabDir)"
   ]
  },
  {
   "cell_type": "markdown",
   "id": "96b1264f",
   "metadata": {},
   "source": [
    "Here is some of the information that the list `model` contains."
   ]
  },
  {
   "cell_type": "code",
   "execution_count": null,
   "id": "79c709c3",
   "metadata": {},
   "outputs": [],
   "source": [
    "model$Compound\n",
    "model$Parameter\n",
    "model$Reaction\n",
    "model$Output\n",
    "model$Experiments\n",
    "model$AKAR4_400nM[1:10,]"
   ]
  },
  {
   "cell_type": "markdown",
   "id": "2a3224b9",
   "metadata": {},
   "source": [
    "When running function `import_from_SBtab`, the command-line program VFGEN is called (see: https://warrenweckesser.github.io/vfgen/index.html), and it is used to generate the files `[modelName].R`, `[modelName]_gfv.c` and `[modelName]_gfv.h`, that are located in the same folder as the SBtab spreadsheets. These files generated thrugh VFGEN contain the functions that implement the ODE vector field of the model.\n",
    "\n",
    "In our example, the model name is \"AKAR4\" and the vector field function is saved in file \"AKAR.R\":"
   ]
  },
  {
   "cell_type": "code",
   "execution_count": null,
   "id": "c557a6c2",
   "metadata": {},
   "outputs": [],
   "source": [
    "# load the R file with the vector field\n",
    "modelName <- \"AKAR4\"\n",
    "source(paste(SBtabDir,\"/\",modelName,\".R\",sep=\"\"))\n",
    "\n",
    "# print the vector field function\n",
    "AKAR4"
   ]
  },
  {
   "cell_type": "markdown",
   "id": "6a36f53e",
   "metadata": {},
   "source": [
    "## Import experimental data from SBtab into R"
   ]
  },
  {
   "cell_type": "markdown",
   "id": "fb64b6d3",
   "metadata": {},
   "source": [
    "Experimental data are also stored in the SBtab files. In particular, we created a table for each time series experiment, together with one table that summarized all the information about each experiment (i.e. initial conditions and input).\n",
    "\n",
    "To import the experimental data we implemented the R function `import_experiments`, that requires as input the model name and the path of the folder with the .tsv files in the SBtab format. The output of `import_experiments` is a list, here denoted by `experiments`. Each element of this list corresponds to one experiment.\n",
    "\n",
    "In this example, the experiments are time series data, that report the concentration of AKAR4 at several time points. "
   ]
  },
  {
   "cell_type": "code",
   "execution_count": null,
   "id": "e364d8a9",
   "metadata": {},
   "outputs": [],
   "source": [
    "experiments <- suppressMessages(import_experiments(modelName, SBtabDir))\n",
    "\n",
    "# print first experiment\n",
    "names(experiments[[1]])\n",
    "print(experiments[[1]][[\"initialState\"]])"
   ]
  },
  {
   "cell_type": "markdown",
   "id": "5bada97b",
   "metadata": {},
   "source": [
    "# Uncertainty Quantification"
   ]
  },
  {
   "cell_type": "markdown",
   "id": "e18e99b4",
   "metadata": {},
   "source": [
    "## Define priors for parameters"
   ]
  },
  {
   "cell_type": "markdown",
   "id": "bf3432ca",
   "metadata": {},
   "source": [
    "We decided to use a log-uniform distribution for the parameters, centered in their default value (read from the SBtab) and with lower and upper limit, respectively, 1000-fold larger and smaller than the default value:\n",
    "\n",
    "\\[defaulParameter / 1000 ; defaultParameter * 1000\\]\n"
   ]
  },
  {
   "cell_type": "code",
   "execution_count": null,
   "id": "e26f5239",
   "metadata": {},
   "outputs": [],
   "source": [
    "# default values of parameters\n",
    "parVal <- model[[\"Parameter\"]][[\"!DefaultValue\"]]\n",
    "\n",
    "# scale to determine the log uniform prior distribution\n",
    "defRange <- 1000\n",
    "\n",
    "# parIdx is the vector of indices of parameters on which we perform UQ.\n",
    "# The other parameters are fixed at their default value.\n",
    "# In this example we perform UQ on all the parameters.\n",
    "parIdx <- 1:length(parVal)   \n",
    "\n",
    "\n",
    "ll <- parVal/defRange\n",
    "ul <- parVal*defRange\n",
    "ll = log10(ll) # log10-scale\n",
    "ul = log10(ul) # log10-scale"
   ]
  },
  {
   "cell_type": "markdown",
   "id": "a27d4183",
   "metadata": {},
   "source": [
    "## Define the ABC setting"
   ]
  },
  {
   "cell_type": "markdown",
   "id": "c7431f94",
   "metadata": {},
   "source": [
    "We will perform the UQ applying the ABCMCMC algorithm in multiple steps.\n",
    "At each step we consider the data from one of the three experiments that we read from the SBtab tables."
   ]
  },
  {
   "cell_type": "code",
   "execution_count": null,
   "id": "7b2da6da",
   "metadata": {},
   "outputs": [],
   "source": [
    "# Define the experiments to consider in each step of the ABCMCMC algorithm\n",
    "\n",
    "experimentsIndices <- list(1,2,3)\n",
    "\n",
    "npc <- 500    # number of samples for the Precalibration (npc) \n",
    "              # On a cluster, we can use 5000 or 50000.\n",
    "p <- 0.01     # For the Pre-Calibration: Choose Top 1% samples with shortest distance to the experimental values\n",
    "\n",
    "\n",
    "nChains <- 4  # For the ABC-MCMC Process: number of chains that are created in parallel \n",
    "ns <- 100     # number of samples in each ABC-MCMC chain (ns)\n",
    "              # On a cluster, we can use 1000.\n",
    "delta <- 0.01 # Distance threshold to compare experimental data and simulated data\n",
    "\n",
    "# Define the number of Cores for parallelized computations\n",
    "nCores <- 2\n",
    "\n",
    "# Scaling factor, used to define the covariance matrix in the ABCMCMC \n",
    "sfactor <- 0.1  \n",
    "\n",
    "# Choose whether to solve ODEs in R or C\n",
    "environment <- \"C\"\n",
    "\n",
    "set.seed(123456)"
   ]
  },
  {
   "cell_type": "markdown",
   "id": "ca9ba9e1",
   "metadata": {},
   "source": [
    "Create a customized distance function"
   ]
  },
  {
   "cell_type": "code",
   "execution_count": null,
   "id": "c1217085",
   "metadata": {},
   "outputs": [],
   "source": [
    "# Define the score function to compare simulated data with experimental data\n",
    "\n",
    "getScore  <- function(yy_sim, yy_exp){\n",
    "  yy_sim <- (yy_sim-0)/(0.2-0.0)\n",
    "  ifelse(!is.na(yy_exp), yy_exp <- (yy_exp-108.6)/(183.9-108.6), Inf)\n",
    "  distance <- mean((yy_sim-yy_exp)^2)\n",
    "  return(distance)\n",
    "}"
   ]
  },
  {
   "cell_type": "markdown",
   "id": "c075ed72",
   "metadata": {},
   "source": [
    "## ABCMCMC"
   ]
  },
  {
   "cell_type": "markdown",
   "id": "9e89fa90",
   "metadata": {},
   "source": [
    "We start the UQ by running the ABCMCMC algorithm with data from the first experiment."
   ]
  },
  {
   "cell_type": "code",
   "execution_count": null,
   "id": "f92dbb15",
   "metadata": {},
   "outputs": [],
   "source": [
    "#first set of experiments\n",
    "expInd <- experimentsIndices[[1]]"
   ]
  },
  {
   "cell_type": "markdown",
   "id": "bee6161e",
   "metadata": {},
   "source": [
    "The first step consists in creating a copula that will describe the prior distribution of parameters. "
   ]
  },
  {
   "cell_type": "code",
   "execution_count": null,
   "id": "02eafd20",
   "metadata": {},
   "outputs": [],
   "source": [
    "# Fit independent copula\n",
    "out <- makeIndepCopula(ll, ul)\n",
    "copula <- out$copula\n",
    "U <- out$U\n",
    "Z <- out$Z\n",
    "Y <- out$Y"
   ]
  },
  {
   "cell_type": "markdown",
   "id": "dc41842a",
   "metadata": {},
   "source": [
    "Using the copula, we can run functions `preCalibration` and `getMCMCPar`, that will determine a starting parameter (`startPar`) for each of the ABCMCMC chains, and a covariance matrix (`Sigma`) that will be used in the ABCMCMC algorithm."
   ]
  },
  {
   "cell_type": "code",
   "execution_count": null,
   "id": "1944d9a9",
   "metadata": {},
   "outputs": [],
   "source": [
    "## Run Pre-Calibration Sampling\n",
    "out1 <- preCalibration(experiments[expInd], modelName, parVal, parIdx, npc, copula, U, Z, getScore, nCores = nCores, environment)\n",
    "  \n",
    "## Get Starting Parameters from Pre-Calibration\n",
    "out2 <- getMCMCPar(out1$prePar, out1$preDelta, p, sfactor, delta, nChains)\n",
    "Sigma <- out2$Sigma\n",
    "startPar <- out2$startPar\n",
    "  "
   ]
  },
  {
   "cell_type": "markdown",
   "id": "1ef02eac",
   "metadata": {},
   "source": [
    "The ABCMCMC algorithm is performed by function `ABCMCMC`, that can be run in parallel for each chain."
   ]
  },
  {
   "cell_type": "code",
   "execution_count": null,
   "id": "9cdf2a72",
   "metadata": {},
   "outputs": [],
   "source": [
    "## Run ABC-MCMC Sampling\n",
    "cl <- makeForkCluster(nChains)\n",
    "draws <- parLapply(cl, 1:nChains, function(k) ABCMCMC(experiments[expInd], modelName, startPar[k,], parIdx, parVal, ns, Sigma, delta, U, Z, Y, copula, ll, ul, getScore, nCores, environment))\n",
    "stopCluster(cl)"
   ]
  },
  {
   "cell_type": "markdown",
   "id": "e671dbac",
   "metadata": {},
   "source": [
    "The output of `ABCMCMC` is a list, containing the draws of each chain. We now convert a list into a matrix with all the draws (from all the chains)."
   ]
  },
  {
   "cell_type": "code",
   "execution_count": null,
   "id": "919f14a5",
   "metadata": {},
   "outputs": [],
   "source": [
    "# put draws together (from list to matrix)\n",
    "draws <- do.call(\"rbind\", draws)\n",
    "pick <- !apply(draws, 1, function(rw) all(rw==0))\n",
    "draws <- draws[pick,]"
   ]
  },
  {
   "cell_type": "markdown",
   "id": "9ef58d5d",
   "metadata": {},
   "source": [
    "Let us inspect the matrix of draws `draws`."
   ]
  },
  {
   "cell_type": "code",
   "execution_count": null,
   "id": "76dc0a02",
   "metadata": {},
   "outputs": [],
   "source": [
    "dim(draws)\n",
    "head(draws)"
   ]
  },
  {
   "cell_type": "markdown",
   "id": "f9463f07",
   "metadata": {},
   "source": [
    "Each row of matrix `draws` corresponds to a parameter that, when used in the ODE model, produces simulations that are \"close enough\" to the experimental data. This is illustrated by the following plot, produced by function `plotDataAndSimulations`: for each parameter draw produced by the ABCMCMC algorithm, we simulate the ODE system using the same initial conditions and input as the considered experiment (first experiment) and plot the simulated time series, together with the experimental data."
   ]
  },
  {
   "cell_type": "code",
   "execution_count": null,
   "id": "22ec4ed3",
   "metadata": {},
   "outputs": [],
   "source": [
    "source(paste0(SBtabDir,\"/plotFunctionsAKAR4.R\"))\n",
    "\n",
    "plotDataAndSimulations(draws, expInd=1)"
   ]
  },
  {
   "cell_type": "markdown",
   "id": "cb2e4722",
   "metadata": {},
   "source": [
    "The empirical distribution of parameter draws is an approximation of the posterior distribution of parameters, gived data from the first experiment.\n",
    "\n",
    "We fit a copula based on this posterior parameter distribution, and we use it as prior parameter distribution for the following UQ, where we will consider data from the second experiment."
   ]
  },
  {
   "cell_type": "code",
   "execution_count": null,
   "id": "af943934",
   "metadata": {},
   "outputs": [],
   "source": [
    "#Fitting Copula based on previous MCMC runs\n",
    "out <- fitCopula(draws, ll, ul, nCores=1)        \n",
    "copula <- out$copula\n",
    "U <- out$U\n",
    "Z <- out$Z\n",
    "Y <- out$Y\n",
    "\n",
    "#second set of experiments\n",
    "expInd <- experimentsIndices[[2]]\n",
    "\n",
    "## Run Pre-Calibration Sampling\n",
    "out1 <- preCalibration(experiments[expInd], modelName, parVal, parIdx, npc, copula, U, Z, getScore, nCores = nCores, environment)\n",
    "out2 <- getMCMCPar(out1$prePar, out1$preDelta, p, sfactor, delta, nChains)\n",
    "Sigma <- out2$Sigma\n",
    "startPar <- out2$startPar\n",
    "\n",
    "## Run ABC-MCMC Sampling\n",
    "cl <- makeForkCluster(nChains)\n",
    "draws <- parLapply(cl, 1:nChains, function(k) ABCMCMC(experiments[expInd], modelName, startPar[k,], parIdx, parVal, ns, Sigma, delta, U, Z, Y, copula, ll, ul, getScore, nCores, environment))\n",
    "stopCluster(cl)\n",
    "                   \n",
    "# put draws together (from list to matrix)\n",
    "draws <- do.call(\"rbind\", draws)\n",
    "pick <- !apply(draws, 1, function(rw) all(rw==0))\n",
    "draws <- draws[pick,]\n",
    "               \n",
    "dim(draws)\n",
    "head(draws)\n"
   ]
  },
  {
   "cell_type": "markdown",
   "id": "944a45e4",
   "metadata": {},
   "source": [
    "We use the draws, sampled through the ABCMCMC algorithm, to simulate trajectories.\n",
    "We plot the trajectories (blue curves), together with the data from experiment 2 (black dots), using function `plotDataAndSimulations`."
   ]
  },
  {
   "cell_type": "code",
   "execution_count": null,
   "id": "659de78e",
   "metadata": {},
   "outputs": [],
   "source": [
    "plotDataAndSimulations(draws, expInd=2)"
   ]
  },
  {
   "cell_type": "markdown",
   "id": "35164042",
   "metadata": {},
   "source": [
    "The simulated time series agree with the experimental data from experiment 2.\n",
    "This is reasonable, also due to the fact that we used data frmo experiment 2 in the ABCMCMC algorithm.\n",
    "\n",
    "We now use the same draws applied to the same initial conditions as experiment 1, to see whether these parameters fit also the first experimental dataset."
   ]
  },
  {
   "cell_type": "code",
   "execution_count": null,
   "id": "2779b374",
   "metadata": {},
   "outputs": [],
   "source": [
    "plotDataAndSimulations(draws, expInd=1)"
   ]
  },
  {
   "cell_type": "markdown",
   "id": "5279e399",
   "metadata": {},
   "source": [
    "Some of the draws lead to simulated time series (blue curves) that are \"too far\" from the first experiment data. Hence, we filter out such draws using function `checkFitWithPreviousExperiments`."
   ]
  },
  {
   "cell_type": "code",
   "execution_count": null,
   "id": "cdf25df8",
   "metadata": {},
   "outputs": [],
   "source": [
    "# Checking fit with dataset 1\n",
    "draws <- checkFitWithPreviousExperiments(2, experimentsIndices, modelName, \n",
    "                                         draws, experiments, parVal, parIdx, \n",
    "                                         getScore, delta, environment, nCores, nChains)"
   ]
  },
  {
   "cell_type": "code",
   "execution_count": null,
   "id": "e20a23d4",
   "metadata": {},
   "outputs": [],
   "source": [
    "dim(draws)\n",
    "head(draws)"
   ]
  },
  {
   "cell_type": "markdown",
   "id": "2ee800a5",
   "metadata": {},
   "source": [
    "We plot again the simulated time series and the data point for the first and second experiment."
   ]
  },
  {
   "cell_type": "code",
   "execution_count": null,
   "id": "6297c61b",
   "metadata": {},
   "outputs": [],
   "source": [
    "plotDataAndSimulations(draws, expInd=1)"
   ]
  },
  {
   "cell_type": "code",
   "execution_count": null,
   "id": "14e40264",
   "metadata": {},
   "outputs": [],
   "source": [
    "plotDataAndSimulations(draws, expInd=2)"
   ]
  },
  {
   "cell_type": "markdown",
   "id": "0308f795",
   "metadata": {},
   "source": [
    "We now prceed with the UQ using the third dataset, using a prior distribution given by the copula, fit with the draws from the previous step. "
   ]
  },
  {
   "cell_type": "code",
   "execution_count": null,
   "id": "bf9c3a94",
   "metadata": {},
   "outputs": [],
   "source": [
    "#third set of experiments\n",
    "expInd <- experimentsIndices[[3]]\n",
    "\n",
    "#Fitting Copula based on previous MCMC runs\n",
    "out <- fitCopula(draws, ll, ul, 1)        \n",
    "copula <- out$copula\n",
    "U <- out$U\n",
    "Z <- out$Z\n",
    "Y <- out$Y\n",
    "  \n",
    "## Run Pre-Calibration Sampling\n",
    "out1 <- preCalibration(experiments[expInd], modelName, parVal, parIdx, npc, copula, U, Z, getScore, nCores = nCores, environment)\n",
    "  \n",
    "## Get Starting Parameters from Pre-Calibration\n",
    "out2 <- getMCMCPar(out1$prePar, out1$preDelta, p, sfactor, delta, nChains)\n",
    "Sigma <- out2$Sigma\n",
    "startPar <- out2$startPar\n",
    "\n",
    "## Run ABC-MCMC Sampling\n",
    "cl <- makeForkCluster(nChains)\n",
    "draws <- parLapply(cl, 1:nChains, function(k) ABCMCMC(experiments[expInd], modelName, startPar[k,], parIdx, parVal, ns, Sigma, delta, U, Z, Y, copula, ll, ul, getScore, nCores, environment))\n",
    "stopCluster(cl)\n",
    "                   \n",
    "# put draws together (from list to matrix)\n",
    "draws <- do.call(\"rbind\", draws)\n",
    "pick <- !apply(draws, 1, function(rw) all(rw==0))\n",
    "draws <- draws[pick,]"
   ]
  },
  {
   "cell_type": "code",
   "execution_count": null,
   "id": "95aaad09",
   "metadata": {},
   "outputs": [],
   "source": [
    "dim(draws)\n",
    "head(draws)"
   ]
  },
  {
   "cell_type": "markdown",
   "id": "3a87b0b5",
   "metadata": {},
   "source": [
    "We plot the timeseries data in the third experiments, and the simulated timeseries where the parameters in `draws` are used."
   ]
  },
  {
   "cell_type": "code",
   "execution_count": null,
   "id": "29cf6058",
   "metadata": {},
   "outputs": [],
   "source": [
    "plotDataAndSimulations(draws, expInd=3)"
   ]
  },
  {
   "cell_type": "markdown",
   "id": "d764dbe5",
   "metadata": {},
   "source": [
    "We compare the experimental datapoints of experiment 1 with the simulations obtained with the parameters in `draws` and the same initial conditions as in experiment 1."
   ]
  },
  {
   "cell_type": "code",
   "execution_count": null,
   "id": "7ba2d13b",
   "metadata": {},
   "outputs": [],
   "source": [
    "plotDataAndSimulations(draws, expInd=1)"
   ]
  },
  {
   "cell_type": "markdown",
   "id": "2a94f69b",
   "metadata": {},
   "source": [
    "We compare the experimental datapoints of experiment 2 with the simulations obtained with the parameters in `draws` and the same initial conditions as in experiment 2."
   ]
  },
  {
   "cell_type": "code",
   "execution_count": null,
   "id": "5b4b4625",
   "metadata": {},
   "outputs": [],
   "source": [
    "plotDataAndSimulations(draws, expInd=2)"
   ]
  },
  {
   "cell_type": "markdown",
   "id": "1f510c4d",
   "metadata": {},
   "source": [
    "We filter out the parameters that produce simulations that are \"too far\" from the data in experiment 1 and 2."
   ]
  },
  {
   "cell_type": "code",
   "execution_count": null,
   "id": "186584d1",
   "metadata": {},
   "outputs": [],
   "source": [
    "# Checking fit with dataset 1\n",
    "draws <- checkFitWithPreviousExperiments(3, experimentsIndices, modelName, \n",
    "                                         draws, experiments, parVal, parIdx, \n",
    "                                         getScore, delta, environment, nCores, nChains)\n"
   ]
  },
  {
   "cell_type": "code",
   "execution_count": null,
   "id": "046e17c6",
   "metadata": {},
   "outputs": [],
   "source": [
    "dim(draws)\n",
    "head(draws)"
   ]
  },
  {
   "cell_type": "markdown",
   "id": "e4c9a6b5",
   "metadata": {},
   "source": [
    "We plot again simulations and experimental datapoint in the 3 experimental setups."
   ]
  },
  {
   "cell_type": "code",
   "execution_count": null,
   "id": "db8e57a7",
   "metadata": {},
   "outputs": [],
   "source": [
    "plotDataAndSimulations(draws, expInd=1)"
   ]
  },
  {
   "cell_type": "code",
   "execution_count": null,
   "id": "24045534",
   "metadata": {},
   "outputs": [],
   "source": [
    "plotDataAndSimulations(draws, expInd=2)"
   ]
  },
  {
   "cell_type": "code",
   "execution_count": null,
   "id": "176aa55e",
   "metadata": {},
   "outputs": [],
   "source": [
    "plotDataAndSimulations(draws, expInd=3)"
   ]
  },
  {
   "cell_type": "markdown",
   "id": "f5055595",
   "metadata": {},
   "source": [
    "## Plot final results "
   ]
  },
  {
   "cell_type": "code",
   "execution_count": null,
   "id": "fad35aa6",
   "metadata": {},
   "outputs": [],
   "source": [
    "parNames <- model[[\"Parameter\"]][[\"!Name\"]]\n",
    "# histograms \n",
    "par(mfrow=c(2,3))\n",
    "for(i in 1:3){\n",
    "  hist(draws[,i], main=parNames[i], xlab = \"Value in log scale\")\n",
    "}\n",
    "\n",
    "# scatterplot for pairs of parameters\n",
    "combinePar <- list(c(1,2), c(1,3), c(2,3))\n",
    "for(i in combinePar){\n",
    "  plot(draws[,i[1]], draws[,i[2]], xlab = parNames[i[1]], ylab = parNames[i[2]])\n",
    "}\n"
   ]
  },
  {
   "cell_type": "code",
   "execution_count": null,
   "id": "f15e9acd",
   "metadata": {},
   "outputs": [],
   "source": [
    "# scatter plot\n",
    "suppressMessages(library(plotly))\n",
    "par(mfrow=c(1,1))\n",
    "df = as.data.frame(draws)\n",
    "colnames(df) <- parNames\n",
    "plot_ly(dat = df, x = ~kf_C_AKAR4, y = ~kb_C_AKAR4, z = ~kcat_AKARp, type=\"scatter3d\", mode=\"markers\", marker=list(size = 1, color = \"red\"))\n",
    "\n"
   ]
  },
  {
   "cell_type": "markdown",
   "id": "3f982647",
   "metadata": {},
   "source": [
    "# Additional information about the methods"
   ]
  },
  {
   "cell_type": "markdown",
   "id": "2df5f721",
   "metadata": {},
   "source": [
    "## ABC-MCMC with copulas"
   ]
  },
  {
   "cell_type": "markdown",
   "id": "55458ddc",
   "metadata": {},
   "source": [
    "In ABC, samples from a prior distribution (or a proposal distribution) are accepted if the experimental data are reproduced by simulations from the model within a certain margin, so that a distance measure $\\rho(S(\\mathbf{y}^{sim}),S(\\mathbf{y}^\\text{exp}))$ is smaller than some predefined cut-off $\\delta$ (S is a summary statistic of the data). The accepted parameter sets $\\mathbf{\\theta}$ will form the approximate posterior distribution $f(\\mathbf{\\theta}|\\rho(S(\\mathbf{y}^\\text{exp}),S(\\mathbf{y}^{sim}))\\leq\\delta)$. \n",
    "\n",
    "We use a distance measure, or scoring function, that accounts for deviations on both the model output (y-axis) and model input (x-axis) since the experimental data may be subject to experimental error both regarding input and output.  \n",
    "\n",
    "We couple ABC to Markov chain Monte Carlo (MCMC) to efficiently sample from the posterior distribution of the parameters of interest. The model is fitted to the datasets in sequence. In order to incorporate the information from each fit, we do the following:\n",
    "\n",
    "* Fit the model to one datataset, producing a posterior distribution\n",
    "* Fit a copula to the posterior distribution \n",
    "* Use the copula as a prior to fit the model to the next dataset\n",
    "\n",
    "We use graphical models called R-vines to formulate copulas that are constructed in pairs in order to describe the dependencies over multiple parameters. \n",
    "\n"
   ]
  },
  {
   "cell_type": "markdown",
   "id": "db418283",
   "metadata": {},
   "source": [
    "### Copulas\n",
    "\n",
    "Copulas are multivariate probability distributions which describe the dependence structure between stochastic variables. The copula is a function that connects the multivariate distribution function to the marginal ones ($F_i$) as follows.\n",
    "\n",
    "$$\n",
    "F(\\mathbf{x}) = C(F_1(x_1), \\ldots, F_d(x_d))\n",
    "$$ \n",
    "\n",
    "It can be shown that the multivariate (joint) density can be represented by a number of appropriate pair-copulas times the conditional marginal densities based on a pair-copula factorization. For a distribution over three variables, we have\n",
    "\n",
    "$$\n",
    "f(x_1, x_2, x_3) = c_{1,2}(F_1(x_1),F_2(x_2))c_{2,3|1} (F(x_2|x_1), F(x_3|x_1))c_{1,3}(F_1(x_1), F_3(x_3))f_1(x_1) f_3 (x_3) f_2(x_2)\\\\\n",
    "$$\n",
    "\n",
    "The copula pairs can be chosen independently of each other giving a wide range of possible dependence structures. We use graphical models called R-vines to arrange the pair copulas in a tree structure. \n",
    "\n",
    "Let's assume we work with a simple bivariate distribution and that we have a bivariate sample $\\mathbf{x}=[\\mathbf{x}_1, \\mathbf{x}_2]$. For each variable $X_1$ and $X_2$, we estimate a cumulative distribution $P(X_1 \\leq x_1)$ and $P(X_2 \\leq x_2)$ (this can be done in R using e.g. the kcde or ecdf functions). We evaluate these cumulative densities in the sample points $[\\mathbf{x}_1, \\mathbf{x}_2]$ and denote this information $\\mathbf{z}=[\\mathbf{z}_1, \\mathbf{z}_2]$. This step maps the sample points ($\\mathbf{x}$) into the $[0,1]$ space and we fit a copula to $\\mathbf{z}$ in this space.\n",
    "\n",
    "\n"
   ]
  },
  {
   "cell_type": "markdown",
   "id": "0a06af96",
   "metadata": {},
   "source": [
    "### Pre-calibration\n",
    "\n",
    "Each fit to a dataset begins with a pre-calibration step, in order to construct a covariance matrix for the MCMC transition kernel as well as finding starting points for the MCMC chains.\n",
    "\n",
    "In the pre-calibration step we sample independently from the prior distribution a number of times ($npc$) to produce a set of samples. We generate simulated output from the model for each parameter set and check, using the distance measure, how close the simulated outputs $\\mathbf{y}^{sim}$are to the experimental data $\\mathbf{y}^{exp}$. We save a certain fraction $p$ of the samples that have the smallest distances. With these samples, we estimate a covariance matrix that is used as transition kernel Q (scaled appropriately) for the MCMC chains. We also pick random starting points for the chains. \n",
    "\n",
    "In order to perform a streamlined computational pipeline, we always formulate the prior distribution of the parameters in the form of a copula. For the fit to the first dataset, when we have uniform independent priors for all parameters, we use an independece copula, where all copula pairs (i.e. pairs of parameters) are independent. "
   ]
  }
 ],
 "metadata": {
  "celltoolbar": "Raw Cell Format",
  "kernelspec": {
   "display_name": "R",
   "language": "R",
   "name": "ir"
  },
  "language_info": {
   "codemirror_mode": "r",
   "file_extension": ".r",
   "mimetype": "text/x-r-source",
   "name": "R",
   "pygments_lexer": "r",
   "version": "4.1.2"
  }
 },
 "nbformat": 4,
 "nbformat_minor": 5
}
